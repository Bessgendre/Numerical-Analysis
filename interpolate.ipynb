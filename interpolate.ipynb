{
 "cells": [
  {
   "cell_type": "code",
   "execution_count": 1,
   "id": "16093e3f",
   "metadata": {},
   "outputs": [],
   "source": [
    "import math"
   ]
  },
  {
   "cell_type": "code",
   "execution_count": 2,
   "id": "158b7d5a",
   "metadata": {},
   "outputs": [],
   "source": [
    "# Lagrange 插值算法\n",
    "\n",
    "def LagrangeBase(x,dataX,dataY,i,n):   \n",
    "    # 使用 n 次多项式插值，计算第 i 个 Lagrange 基在 x 的值\n",
    "    item = 1\n",
    "    for j in range(0, n+1):\n",
    "        if j == i:\n",
    "            continue \n",
    "        item *= (x - dataX[j]) / (dataX[i] - dataX[j])\n",
    "    item *= dataY[i]\n",
    "    return item\n",
    "\n",
    "def LagrangeInterpolate(x, dataX, dataY, n):\n",
    "    # 输入 n + 1 个点，\n",
    "    # 使用 n 次多项式的拉格朗日插值，计算插值多项式在 x 处的值\n",
    "    \n",
    "    if n < len(dataX) - 1:\n",
    "        print(\"Wrong!\")\n",
    "        return 0\n",
    "    n = len(dataX) - 1\n",
    "    result = 0\n",
    "    for i in range(0, n+1):\n",
    "        result += LagrangeBase(x, dataX, dataY, i, n)\n",
    "    return result "
   ]
  },
  {
   "cell_type": "code",
   "execution_count": 55,
   "id": "8a55fb74",
   "metadata": {},
   "outputs": [],
   "source": [
    "# Newton 插值算法\n",
    "\n",
    "def DifferentQuotient(dataX,dataY):\n",
    "    # 给定 n+1 个点，计算 n 阶差商\n",
    "    \n",
    "    if len(dataX) == 1:\n",
    "        return dataY[0]\n",
    "    \n",
    "    result = 0\n",
    "    n = len(dataX) - 1\n",
    "    for i in range(n + 1):\n",
    "        item = 1\n",
    "        \n",
    "        for j in range(n + 1): # 以差商的通项公式计算 n 阶差商\n",
    "            if j == i:\n",
    "                continue    \n",
    "            item *= 1 / (dataX[i] - dataX[j])\n",
    "            \n",
    "        item *= dataY[i]\n",
    "        result += item\n",
    "    return result  \n",
    "\n",
    "def NewtonBase(x, dataX, dataY):\n",
    "    # 计算 Newton 插值中的每一个 Newton 基在 x 处的值\n",
    "    # 本函数也可用于实现承袭性，data.append 就行\n",
    "    \n",
    "    n = len(dataX) - 1\n",
    "    result = 1\n",
    "    \n",
    "    if n == 0:\n",
    "        return dataY[0]\n",
    "    \n",
    "    for i in range(n):\n",
    "        result *= (x - dataX[i])\n",
    "    result *= DifferentQuotient(dataX,dataY)\n",
    "    \n",
    "    return result\n",
    "\n",
    "def NewtonInterpolate(x, dataX, dataY, n):\n",
    "    # 输入 n + 1 个点，\n",
    "    # 使用牛顿插值，计算插值多项式在 x 处的值\n",
    "    result = 0\n",
    "    \n",
    "    for i in range(n + 1):\n",
    "        result += NewtonBase(x, dataX[0:i+1], dataY[0:i+1])\n",
    "    return result "
   ]
  },
  {
   "cell_type": "code",
   "execution_count": null,
   "id": "91c52840",
   "metadata": {},
   "outputs": [],
   "source": [
    "## 误差估计\n",
    "\n",
    "def PosterioriError(x, dataX, dataY):\n",
    "    # 估计后验误差，以拉格朗日形式\n",
    "    \n",
    "    n = len(dataX) - 2\n",
    "    # 插值多项式的阶数比数据个数少 2\n",
    "    \n",
    "    dataX1 = dataX[0:-1]\n",
    "    dataY1 = dataY[0:-1]\n",
    "    dataX2 = dataX[1:]\n",
    "    dataY2 = dataY[1:]\n",
    "    \n",
    "    error = (x - dataX[0])/(dataX[0] - dataX[n+1]) * (LagrangeInterpolate(x, dataX1,dataY1,n) - \n",
    "         LagrangeInterpolate(x, dataX2,dataY2,n))\n",
    "    \n",
    "    return error  "
   ]
  },
  {
   "cell_type": "code",
   "execution_count": 9,
   "id": "3ae0cf7b",
   "metadata": {},
   "outputs": [
    {
     "name": "stdout",
     "output_type": "stream",
     "text": [
      "0.1993605\n",
      "0.008551500000000004\n"
     ]
    }
   ],
   "source": [
    "# 拉格朗日插值\n",
    "\n",
    "dataX = [11, 12]\n",
    "dataY = [0.190809, 0.207912]\n",
    "\n",
    "print(LagrangeInterpolate(11.5, dataX,dataY,1))\n",
    "print(PosterioriError(11.5, dataX, dataY))"
   ]
  },
  {
   "cell_type": "code",
   "execution_count": 13,
   "id": "7cdcb4c0",
   "metadata": {},
   "outputs": [
    {
     "name": "stdout",
     "output_type": "stream",
     "text": [
      "0.5085714285714287\n",
      "2.3085714285714287\n"
     ]
    }
   ],
   "source": [
    "dataX = [-2,2,5]\n",
    "dataY = [0,3,6]\n",
    "\n",
    "print(LagrangeInterpolate(-1.2, dataX, dataY, 2))\n",
    "print(LagrangeInterpolate(1.2, dataX, dataY, 2))"
   ]
  },
  {
   "cell_type": "code",
   "execution_count": 16,
   "id": "24ba56e7",
   "metadata": {},
   "outputs": [
    {
     "name": "stdout",
     "output_type": "stream",
     "text": [
      "10.248120300751879\n"
     ]
    }
   ],
   "source": [
    "dataX = [81,100,121]\n",
    "dataY = [9,10,11]\n",
    "\n",
    "print(LagrangeInterpolate(105, dataX, dataY, 2))"
   ]
  },
  {
   "cell_type": "code",
   "execution_count": 60,
   "id": "7df561b4",
   "metadata": {},
   "outputs": [
    {
     "name": "stdout",
     "output_type": "stream",
     "text": [
      "1.303749999999999\n"
     ]
    }
   ],
   "source": [
    "# 牛顿法插值\n",
    "\n",
    "dataX = [-2,0,1,2]\n",
    "dataY = [17,1,2,19]\n",
    "print(NewtonInterpolate(0.9,dataX,dataY, 3))"
   ]
  },
  {
   "cell_type": "code",
   "execution_count": 63,
   "id": "8e8afe13",
   "metadata": {},
   "outputs": [],
   "source": [
    "## 第九题\n",
    "\n",
    "def function(x):\n",
    "    return x**7 - 125 * x**5 + 237 * x**3 - 999"
   ]
  },
  {
   "cell_type": "code",
   "execution_count": 68,
   "id": "2b52369d",
   "metadata": {},
   "outputs": [
    {
     "name": "stdout",
     "output_type": "stream",
     "text": [
      "[1, 2]\n",
      "[-886, -2975]\n"
     ]
    },
    {
     "data": {
      "text/plain": [
       "-2089.0"
      ]
     },
     "execution_count": 68,
     "metadata": {},
     "output_type": "execute_result"
    }
   ],
   "source": [
    "dataX = [2**x for x in range(2)]\n",
    "dataY = [function(x) for x in dataX]\n",
    "\n",
    "print(dataX)\n",
    "print(dataY)\n",
    "\n",
    "DifferentQuotient(dataX,dataY)"
   ]
  },
  {
   "cell_type": "code",
   "execution_count": 69,
   "id": "70690576",
   "metadata": {},
   "outputs": [
    {
     "name": "stdout",
     "output_type": "stream",
     "text": [
      "[1, 2, 4, 8, 16, 32, 64, 128]\n",
      "[-886, -2975, -97447, -1878503, 138333209, 30173199385, 4263890910233, 558655483149337]\n"
     ]
    },
    {
     "data": {
      "text/plain": [
       "0.9999999999999996"
      ]
     },
     "execution_count": 69,
     "metadata": {},
     "output_type": "execute_result"
    }
   ],
   "source": [
    "dataX = [2**x for x in range(8)]\n",
    "dataY = [function(x) for x in dataX]\n",
    "\n",
    "print(dataX)\n",
    "print(dataY)\n",
    "\n",
    "DifferentQuotient(dataX,dataY)"
   ]
  },
  {
   "cell_type": "code",
   "execution_count": 70,
   "id": "8f0faf9a",
   "metadata": {},
   "outputs": [
    {
     "name": "stdout",
     "output_type": "stream",
     "text": [
      "[1, 2, 4, 8, 16, 32, 64, 128, 256]\n",
      "[-886, -2975, -97447, -1878503, 138333209, 30173199385, 4263890910233, 558655483149337, 71920159060655129]\n"
     ]
    },
    {
     "data": {
      "text/plain": [
       "5.204170427930421e-18"
      ]
     },
     "execution_count": 70,
     "metadata": {},
     "output_type": "execute_result"
    }
   ],
   "source": [
    "dataX = [2**x for x in range(9)]\n",
    "dataY = [function(x) for x in dataX]\n",
    "\n",
    "print(dataX)\n",
    "print(dataY)\n",
    "\n",
    "DifferentQuotient(dataX,dataY)"
   ]
  },
  {
   "cell_type": "code",
   "execution_count": null,
   "id": "87c751c8",
   "metadata": {},
   "outputs": [],
   "source": []
  }
 ],
 "metadata": {
  "kernelspec": {
   "display_name": "Python 3 (ipykernel)",
   "language": "python",
   "name": "python3"
  },
  "language_info": {
   "codemirror_mode": {
    "name": "ipython",
    "version": 3
   },
   "file_extension": ".py",
   "mimetype": "text/x-python",
   "name": "python",
   "nbconvert_exporter": "python",
   "pygments_lexer": "ipython3",
   "version": "3.10.8"
  }
 },
 "nbformat": 4,
 "nbformat_minor": 5
}
