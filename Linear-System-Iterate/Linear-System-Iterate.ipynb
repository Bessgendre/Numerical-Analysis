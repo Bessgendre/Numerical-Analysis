{
 "cells": [
  {
   "cell_type": "code",
   "execution_count": 67,
   "metadata": {},
   "outputs": [],
   "source": [
    "import numpy as np\n",
    "from scipy import linalg"
   ]
  },
  {
   "cell_type": "code",
   "execution_count": 30,
   "metadata": {},
   "outputs": [],
   "source": [
    "matrix_A = np.array([[31 ,-13 ,0 ,0 ,0 ,-10 ,0 ,0 ,0 ],\n",
    "[-13 ,35 ,-9 ,0 ,-11 ,0, 0, 0, 0 ],\n",
    "[0 ,-9 ,31, -10, 0 ,0 ,0, 0 ,0 ],\n",
    "[0 ,0 ,-10, 79, -30, 0 ,0 ,0, -9 ],\n",
    "[0 ,0 ,0 ,-30, 57, -7, 0, -5 ,0 ],\n",
    "[0 ,0 ,0 ,0 ,-7,47 ,-30 ,0, 0 ],\n",
    "[0 ,0 ,0 ,0 ,0 ,-30, 41 ,0, 0 ],\n",
    "[0 ,0 ,0 ,0 ,-5, 0, 0, 27 ,-2],\n",
    "[0 ,0 ,0 ,-9 ,0 ,0 ,0, -2, 29 ]])\n",
    "\n",
    "b = np.array([-15,27,-23,0,-20,12,-7, 7,10])"
   ]
  },
  {
   "cell_type": "code",
   "execution_count": 45,
   "metadata": {},
   "outputs": [],
   "source": [
    "def JacobiIterate(A,b,epsilon):\n",
    "    dimension = np.shape(A)\n",
    "    for i in range(dimension[0]):\n",
    "        diag = np.abs(A[i,i])\n",
    "        other = np.sum(np.abs(A[i])) - diag\n",
    "        if np.abs(diag) < other:\n",
    "            return \"error, not diagonally dominant\"\n",
    "        \n",
    "    \n",
    "    matrix_U = np.triu(A,1)\n",
    "    matrix_L = np.tril(A,-1)\n",
    "    \n",
    "    diag = 1/np.diagonal(A)\n",
    "    matrix_D_reverse = np.diag(diag)\n",
    "    \n",
    "    x_0 = np.zeros(dimension[1])\n",
    "    \n",
    "    error = 100\n",
    "    k = 0 # 迭代步数\n",
    "    while error > epsilon:\n",
    "        # 矩阵形式的迭代\n",
    "        x_1 = np.matmul(matrix_D_reverse,(b - np.matmul(matrix_L + matrix_U, x_0)))\n",
    "        error = np.abs(np.max(x_1 - x_0))\n",
    "        x_0 = x_1\n",
    "        k = k+1\n",
    "\n",
    "    return x_1,k\n",
    "\n",
    "def GaussSeidelIterate(A,b,epsilon):\n",
    "    dimension = np.shape(A)\n",
    "    for i in range(dimension[0]):\n",
    "        diag = np.abs(A[i,i])\n",
    "        other = np.sum(np.abs(A[i])) - diag\n",
    "        if np.abs(diag) < other:\n",
    "            return \"error, not diagonally dominant\"\n",
    "        \n",
    "    \n",
    "    matrix_U = np.triu(A,1)\n",
    "    matrix_L = np.tril(A,-1)\n",
    "    \n",
    "    diag = np.diagonal(A)\n",
    "    matrix_D = np.diag(diag)\n",
    "    \n",
    "    x_0 = np.zeros(dimension[1])\n",
    "    \n",
    "    k = 0 # 迭代步数\n",
    "    error = 100\n",
    "    while error > epsilon:\n",
    "        # 回代步骤以线性方程组的求解完成\n",
    "        x_1 = linalg.solve(matrix_L + matrix_D, np.matmul(-matrix_U,x_0) + b)\n",
    "        error = np.abs(np.max(x_1 - x_0))\n",
    "        x_0 = x_1\n",
    "        k = k + 1\n",
    "\n",
    "    return x_1, k\n",
    "\n",
    "def SORIterate(A,b,omega,epsilon):\n",
    "    dimension = np.shape(A)\n",
    "    for i in range(dimension[0]):\n",
    "        diag = np.abs(A[i,i])\n",
    "        other = np.sum(np.abs(A[i])) - diag\n",
    "        if np.abs(diag) < other:\n",
    "            return \"error, not diagonally dominant\"\n",
    "        \n",
    "    \n",
    "    matrix_U = np.triu(A,1)\n",
    "    matrix_L = np.tril(A,-1)\n",
    "    \n",
    "    diag = np.diagonal(A)\n",
    "    matrix_D = np.diag(diag)\n",
    "    \n",
    "    x_0 = np.zeros(dimension[1])\n",
    "    \n",
    "    k = 0 # 迭代步数\n",
    "    error = 100\n",
    "    while error > epsilon:\n",
    "        # 回代步骤以线性方程组的求解完成\n",
    "        x_1 = linalg.solve(omega * matrix_L + matrix_D, omega * b - omega * np.matmul(matrix_U,x_0) + (1 - omega) * np.matmul(matrix_D,x_0))\n",
    "        error = np.abs(np.max(x_1 - x_0))\n",
    "        x_0 = x_1\n",
    "        k = k + 1\n",
    "\n",
    "    return x_1, k"
   ]
  },
  {
   "cell_type": "code",
   "execution_count": 52,
   "metadata": {},
   "outputs": [
    {
     "name": "stdout",
     "output_type": "stream",
     "text": [
      "(array([-0.28923376,  0.3454357 , -0.7128117 , -0.22060852, -0.43040041,\n",
      "        0.15430872, -0.05782281,  0.20105389,  0.29022867]), 46)\n",
      "(array([-0.28923291,  0.34543642, -0.71281135, -0.22060823, -0.43040015,\n",
      "        0.15430926, -0.0578225 ,  0.20105396,  0.29022875]), 18)\n",
      "(array([-0.28923391,  0.34543569, -0.71281175, -0.22060851, -0.43040043,\n",
      "        0.15430874, -0.05782287,  0.20105389,  0.29022866]), 12)\n"
     ]
    }
   ],
   "source": [
    "JacobiIterate(np.array([[1,2],[2,3]]),np.array([1,2]),0.000001)\n",
    "\n",
    "print(JacobiIterate(matrix_A,b,0.0000001))\n",
    "print(GaussSeidelIterate(matrix_A,b,0.0000001))\n",
    "print(SORIterate(matrix_A,b,1.2,0.0000001))"
   ]
  },
  {
   "attachments": {},
   "cell_type": "markdown",
   "metadata": {},
   "source": [
    "认为最佳松弛因子是使得迭代步数最小的因子"
   ]
  },
  {
   "cell_type": "code",
   "execution_count": 77,
   "metadata": {},
   "outputs": [
    {
     "name": "stdout",
     "output_type": "stream",
     "text": [
      "[282, 139, 444, 342, 278, 234, 202, 178, 158, 143, 130, 119, 109, 101, 94, 88, 82, 77, 73, 69, 65, 61, 58, 55, 53, 50, 48, 46, 44, 42, 40, 38, 37, 35, 34, 32, 31, 30, 28, 27, 26, 25, 24, 23, 22, 21, 20, 19, 19, 18, 17, 16, 15, 15, 14, 13, 12, 11, 11, 12, 14, 14, 14, 14, 16, 16, 16, 18, 19, 19, 20, 22, 23, 25, 25, 25, 29, 32, 35, 35, 38, 41, 41, 51, 54, 57, 67, 80, 93, 99, 138, 167, 235, 426, 1631, 45047, 18075, 11391, 8359]\n"
     ]
    }
   ],
   "source": [
    "omega_list = np.arange(0.02,2,0.02)\n",
    "\n",
    "def SOReasy(omega):\n",
    "    return SORIterate(matrix_A,b,omega,0.0000001)[1]\n",
    "\n",
    "steps = [SOReasy(omega) for omega in omega_list]\n",
    "print(steps)"
   ]
  },
  {
   "cell_type": "code",
   "execution_count": 78,
   "metadata": {},
   "outputs": [
    {
     "name": "stdout",
     "output_type": "stream",
     "text": [
      "最小迭代步数为  11  ，对应松弛因子  1.16\n"
     ]
    }
   ],
   "source": [
    "print(\"最小迭代步数为 \",min(steps),\" ，对应松弛因子 \",(steps.index(min(steps)) + 1)/50)"
   ]
  }
 ],
 "metadata": {
  "kernelspec": {
   "display_name": "base",
   "language": "python",
   "name": "python3"
  },
  "language_info": {
   "codemirror_mode": {
    "name": "ipython",
    "version": 3
   },
   "file_extension": ".py",
   "mimetype": "text/x-python",
   "name": "python",
   "nbconvert_exporter": "python",
   "pygments_lexer": "ipython3",
   "version": "3.9.12"
  },
  "orig_nbformat": 4
 },
 "nbformat": 4,
 "nbformat_minor": 2
}
