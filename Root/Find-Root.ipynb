{
 "cells": [
  {
   "cell_type": "code",
   "execution_count": 2,
   "metadata": {},
   "outputs": [],
   "source": [
    "import numpy as np\n",
    "import matplotlib.pyplot as plt\n",
    "\n",
    "import sympy as sp\n",
    "from sympy import diff\n",
    "from sympy import symbols\n",
    "import math"
   ]
  },
  {
   "cell_type": "code",
   "execution_count": 3,
   "metadata": {},
   "outputs": [],
   "source": [
    "def Bisection(f,a,b,epsilon):\n",
    "    # 二分法求根\n",
    "    \n",
    "    if np.sign(f(a)*f(b)) > 0:\n",
    "        print(\"Error, existence of zeros cannot be guaranteed\")\n",
    "        return 0\n",
    "    if f(a) == 0:\n",
    "        return a\n",
    "    if f(b) == 0:\n",
    "        return b\n",
    "    \n",
    "    error = np.abs(a - b)\n",
    "    left, right = a, b\n",
    "    i = 0   # 迭代次数\n",
    "    status = \"continue\"\n",
    "    \n",
    "    while error > epsilon:\n",
    "        left, right, status = RenewSection(f,left,right)\n",
    "        error = np.abs(left - right)\n",
    "        i = i + 1\n",
    "        if status == \"stop\":\n",
    "            break\n",
    "    \n",
    "    return (left + right) / 2, i\n",
    "        \n",
    "def RenewSection(f, left, right):\n",
    "    #二分法辅助函数，更新左右端点\n",
    "    \n",
    "    newpoint = (left + right) / 2\n",
    "    if f(newpoint) == 0:\n",
    "        return left, right, \"stop\"\n",
    "    if f(left)*f(newpoint) < 0:\n",
    "        return left, newpoint, \"continue\"\n",
    "    if f(newpoint)*f(right) < 0:\n",
    "        return newpoint, right, \"continue\""
   ]
  },
  {
   "cell_type": "code",
   "execution_count": 5,
   "metadata": {},
   "outputs": [
    {
     "data": {
      "text/plain": [
       "(3.141590118408203, 17)"
      ]
     },
     "execution_count": 5,
     "metadata": {},
     "output_type": "execute_result"
    }
   ],
   "source": [
    "f = lambda x: np.sin(x)\n",
    "Bisection(f,3,4,0.00001)"
   ]
  },
  {
   "cell_type": "code",
   "execution_count": 42,
   "metadata": {},
   "outputs": [],
   "source": [
    "def Newton(f,begin,epsilon):\n",
    "    # 牛顿法解方程\n",
    "    i = 0\n",
    "    solution = Renew_X(f,begin)\n",
    "    error = np.abs(solution - begin)\n",
    "    while error >= epsilon:\n",
    "        new_solution = Renew_X(f,solution)\n",
    "        error = np.abs(solution - new_solution)\n",
    "        solution = new_solution\n",
    "        i = i + 1\n",
    "    return solution, i\n",
    "    \n",
    "def Renew_X(f,x_0):\n",
    "    # 牛顿法辅助函数，更新节点\n",
    "    diff_f = sp.diff(f(x),x)\n",
    "    return x_0 - float(f(x_0)) / float(diff_f.evalf(subs={x:x_0}))"
   ]
  },
  {
   "cell_type": "code",
   "execution_count": 51,
   "metadata": {},
   "outputs": [
    {
     "data": {
      "text/plain": [
       "(1.7320508075688774, 4)"
      ]
     },
     "execution_count": 51,
     "metadata": {},
     "output_type": "execute_result"
    }
   ],
   "source": [
    "f = lambda x: x**3 / 3 - x\n",
    "Newton(f,1.7,0.0000000000001)"
   ]
  }
 ],
 "metadata": {
  "kernelspec": {
   "display_name": "base",
   "language": "python",
   "name": "python3"
  },
  "language_info": {
   "codemirror_mode": {
    "name": "ipython",
    "version": 3
   },
   "file_extension": ".py",
   "mimetype": "text/x-python",
   "name": "python",
   "nbconvert_exporter": "python",
   "pygments_lexer": "ipython3",
   "version": "3.9.12"
  },
  "orig_nbformat": 4
 },
 "nbformat": 4,
 "nbformat_minor": 2
}
