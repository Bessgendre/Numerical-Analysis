{
 "cells": [
  {
   "cell_type": "code",
   "execution_count": 5,
   "metadata": {},
   "outputs": [],
   "source": [
    "import numpy as np\n",
    "import matplotlib.pyplot as plt\n",
    "\n",
    "import sympy as sp\n",
    "from sympy import diff\n",
    "from sympy import symbols\n",
    "import math"
   ]
  },
  {
   "cell_type": "code",
   "execution_count": 4,
   "metadata": {},
   "outputs": [],
   "source": [
    "def Bisection(f,a,b,epsilon):\n",
    "    # 二分法求根\n",
    "    \n",
    "    if np.sign(f(a)*f(b)) > 0:\n",
    "        print(\"Error, existence of zeros cannot be guaranteed\")\n",
    "        return 0\n",
    "    if f(a) == 0:\n",
    "        return a\n",
    "    if f(b) == 0:\n",
    "        return b\n",
    "    \n",
    "    error = np.abs(a - b)\n",
    "    left, right = a, b\n",
    "    i = 0   # 迭代次数\n",
    "    status = \"continue\"\n",
    "    \n",
    "    while error > epsilon:\n",
    "        left, right, status = RenewSection(f,left,right)\n",
    "        error = np.abs(left - right)\n",
    "        i = i + 1\n",
    "        if status == \"stop\":\n",
    "            break\n",
    "    \n",
    "    return (left + right) / 2, i\n",
    "        \n",
    "def RenewSection(f, left, right):\n",
    "    #二分法辅助函数，更新左右端点\n",
    "    \n",
    "    newpoint = (left + right) / 2\n",
    "    if f(newpoint) == 0:\n",
    "        return left, right, \"stop\"\n",
    "    if f(left)*f(newpoint) < 0:\n",
    "        return left, newpoint, \"continue\"\n",
    "    if f(newpoint)*f(right) < 0:\n",
    "        return newpoint, right, \"continue\"\n",
    "    \n",
    "f = lambda x: np.sin(x)\n",
    "Bisection(f,3,4,0.00001)"
   ]
  },
  {
   "cell_type": "code",
   "execution_count": 17,
   "metadata": {},
   "outputs": [],
   "source": [
    "def Newton(f,begin,epsilon):\n",
    "    # 牛顿法解方程\n",
    "    i = 0\n",
    "    solution = Renew_Newton(f,begin)\n",
    "    error = np.abs(solution - begin)\n",
    "    while error >= epsilon:\n",
    "        new_solution = Renew_Newton(f,solution)\n",
    "        error = np.abs(solution - new_solution)\n",
    "        solution = new_solution\n",
    "        i = i + 1\n",
    "        \n",
    "    return begin, solution, i\n",
    "    \n",
    "def Renew_Newton(f,x_0):\n",
    "    # 牛顿法辅助函数，更新节点\n",
    "    x = sp.symbols('x')\n",
    "    diff_f = sp.diff(f(x),x)\n",
    "    return x_0 - float(f(x_0)) / float(diff_f.evalf(subs={x:x_0}))\n",
    "\n",
    "def Secant(f,approximationList,epsilon):\n",
    "    # 弦截法，approximationList 保存左右端点，以 list 形式输入\n",
    "    i = 0\n",
    "    new_approximationList = Renew_Secant(f,approximationList)\n",
    "    solution = new_approximationList[1]\n",
    "    error = np.abs(solution - approximationList[1])\n",
    "    \n",
    "    \n",
    "    while error >= epsilon:\n",
    "        new_approximationList = Renew_Secant(f,new_approximationList)\n",
    "        new_solution = new_approximationList[1]\n",
    "        error = np.abs(new_approximationList[1] - new_approximationList[0])\n",
    "        solution = new_solution\n",
    "        i = i + 1\n",
    "        \n",
    "    return approximationList, solution, i\n",
    "        \n",
    "def Renew_Secant(f,approximationList):\n",
    "    new_x = approximationList[1] - f(approximationList[1]) * (approximationList[1] - approximationList[0]) / (f(approximationList[1]) - f(approximationList[0]))\n",
    "    return [approximationList[1], new_x]"
   ]
  },
  {
   "cell_type": "code",
   "execution_count": 10,
   "metadata": {},
   "outputs": [],
   "source": [
    "# 初始化\n",
    "f = lambda x: x**3 / 3 - x\n",
    "NewtonStartpoints = [0.1,0.2,0.9,9.0]\n",
    "SecantStartpoints = [[-0.1,0.1],[-0.2,0.2],[-2.0,0.9],[0.9,9.0]]\n",
    "epsilon = 10**-8"
   ]
  },
  {
   "cell_type": "code",
   "execution_count": 14,
   "metadata": {},
   "outputs": [
    {
     "name": "stdout",
     "output_type": "stream",
     "text": [
      "牛顿法：\n",
      "\t初值 =  0.1 \t根 =  0.0 \t迭代步数 =  2\n",
      "\t初值 =  0.2 \t根 =  0.0 \t迭代步数 =  3\n",
      "\t初值 =  0.9 \t根 =  -1.7320508075688774 \t迭代步数 =  6\n",
      "\t初值 =  9.0 \t根 =  1.7320508075688774 \t迭代步数 =  9\n"
     ]
    }
   ],
   "source": [
    "def MultiNewton(begin):\n",
    "    return Newton(f,begin,epsilon)\n",
    "\n",
    "results = list(map(MultiNewton, NewtonStartpoints))\n",
    "\n",
    "print(\"牛顿法：\")\n",
    "for result in results:\n",
    "    print(\"\\t初值 = \",result[0],\"\\t根 = \",result[1],\"\\t迭代步数 = \",result[2])"
   ]
  },
  {
   "cell_type": "code",
   "execution_count": 20,
   "metadata": {},
   "outputs": [
    {
     "name": "stdout",
     "output_type": "stream",
     "text": [
      "弦截法：\n",
      "\t初值 =  [-0.1, 0.1] \t根 =  0.0 \t迭代步数 =  1\n",
      "\t初值 =  [-0.2, 0.2] \t根 =  0.0 \t迭代步数 =  1\n",
      "\t初值 =  [-2.0, 0.9] \t根 =  1.7320508075688772 \t迭代步数 =  11\n",
      "\t初值 =  [0.9, 9.0] \t根 =  1.7320508075688772 \t迭代步数 =  13\n"
     ]
    }
   ],
   "source": [
    "def MultiSecant(beginlist):\n",
    "    return Secant(f,beginlist,epsilon)\n",
    "\n",
    "results = list(map(MultiSecant, SecantStartpoints))\n",
    "\n",
    "print(\"弦截法：\")\n",
    "for result in results:\n",
    "    print(\"\\t初值 = \",result[0],\"\\t根 = \",result[1],\"\\t迭代步数 = \",result[2])"
   ]
  }
 ],
 "metadata": {
  "kernelspec": {
   "display_name": "base",
   "language": "python",
   "name": "python3"
  },
  "language_info": {
   "codemirror_mode": {
    "name": "ipython",
    "version": 3
   },
   "file_extension": ".py",
   "mimetype": "text/x-python",
   "name": "python",
   "nbconvert_exporter": "python",
   "pygments_lexer": "ipython3",
   "version": "3.9.12"
  },
  "orig_nbformat": 4
 },
 "nbformat": 4,
 "nbformat_minor": 2
}
