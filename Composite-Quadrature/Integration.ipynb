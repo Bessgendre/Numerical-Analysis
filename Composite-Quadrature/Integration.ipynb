{
 "cells": [
  {
   "cell_type": "code",
   "execution_count": 2,
   "id": "a37c7fa5",
   "metadata": {},
   "outputs": [],
   "source": [
    "import numpy as np\n",
    "import matplotlib as plt"
   ]
  },
  {
   "cell_type": "code",
   "execution_count": 3,
   "id": "3b1ef676",
   "metadata": {},
   "outputs": [],
   "source": [
    "# 计算函数 f 在 (a,b) 上的 Romberg 积分，外推 n-1 次\n",
    "def RombergIntegration(f,a,b,n):\n",
    "    \n",
    "    #存储各次外推数值\n",
    "    repository = np.zeros((n,n),dtype = np.float64)\n",
    "    \n",
    "    #初始化\n",
    "    h = b - a\n",
    "    repository[0,0] = (f(a) + f(b)) * h / 2\n",
    "    \n",
    "    #开始计算\n",
    "    for i in range(1,n):\n",
    "        h = h / 2\n",
    "        # 步长减半\n",
    "        for j in range(i+1):\n",
    "            if j == 0:\n",
    "            #第 0 列是梯形积分的递推\n",
    "                repository[i,j] = 1/2 * repository[i-1,j] + h * InnerSum(f,a,b,h)\n",
    "                continue\n",
    "            #依次线性组合\n",
    "            repository[i,j] = (4**(j) * repository[i,j-1] - \n",
    "                               repository[i-1,j-1]) / (4**(j) - 1)\n",
    "    \n",
    "    return repository\n",
    "\n",
    "#梯形积分递推辅助函数\n",
    "def InnerSum(f,a,b,h):\n",
    "    #计算函数的“内点和\"\n",
    "    number = (b-a)/h + 1\n",
    "    InervalDivide = np.linspace(a,b,int(number))\n",
    "    PointsShouldCalculate = InervalDivide[1::2]\n",
    "    return np.sum(f(PointsShouldCalculate)) "
   ]
  },
  {
   "cell_type": "code",
   "execution_count": 12,
   "id": "8d7ec838",
   "metadata": {},
   "outputs": [
    {
     "data": {
      "text/plain": [
       "array([[0.75      , 0.        , 0.        , 0.        , 0.        ],\n",
       "       [0.70833333, 0.69444444, 0.        , 0.        , 0.        ],\n",
       "       [0.69702381, 0.69325397, 0.6931746 , 0.        , 0.        ],\n",
       "       [0.69412185, 0.69315453, 0.6931479 , 0.69314748, 0.        ],\n",
       "       [0.6933912 , 0.69314765, 0.69314719, 0.69314718, 0.69314718]])"
      ]
     },
     "execution_count": 12,
     "metadata": {},
     "output_type": "execute_result"
    }
   ],
   "source": [
    "f = lambda x: 1/x  \n",
    "RombergIntegration(f,1,2,5)"
   ]
  },
  {
   "cell_type": "code",
   "execution_count": 4,
   "id": "3c10406d",
   "metadata": {},
   "outputs": [],
   "source": [
    "# 复化梯形积分\n",
    "def TrapezoidalIntegration(f,a,b,l):\n",
    "    h = (b - a) / 2**l\n",
    "    points = np.linspace(a,b,2**l+1)\n",
    "    \n",
    "    innerpoints = points[1:-1]\n",
    "    innerSum = np.sum(f(innerpoints))\n",
    "    result = h / 2 * (f(a) + f(b) + 2 * innerSum)\n",
    "    \n",
    "    return result\n",
    "\n",
    "def SimpsonIntegration(f,a,b,l):\n",
    "    \n",
    "    h = (b - a) / 2**(l+1)\n",
    "    points = np.linspace(a,b,2**(l+1)+1) #分 2**(l)+1 段，内点有 2**(l+1)+1 个\n",
    "    \n",
    "    innerOddpoints = points[1:-1:2]\n",
    "    innerEvenpoints = points[2:-1:2]\n",
    "    \n",
    "    oddSum = np.sum(f(innerOddpoints))\n",
    "    evenSum = np.sum(f(innerEvenpoints))\n",
    "    \n",
    "    result = h / 3 * (f(a) + f(b) + 4 * oddSum + 2 * evenSum)\n",
    "    return result"
   ]
  },
  {
   "cell_type": "code",
   "execution_count": 13,
   "id": "a8acb206",
   "metadata": {},
   "outputs": [],
   "source": [
    "f = lambda x : np.sin(x)\n",
    "accurate = 0.256640120404913452934297435929 \n",
    "# Mathematica 输出的30位小数，精度不够会导致后面 SimpsonOrder 出现 inf\n",
    "\n",
    "TrapezoidalResult = np.array([TrapezoidalIntegration(f,1,5,i) for i in range(1,13)])\n",
    "SimpsonResult = np.array([SimpsonIntegration(f,1,5,i) for i in range(1,13)])\n",
    "\n",
    "TrapezoidalError = TrapezoidalResult - accurate\n",
    "SimpsonError = SimpsonResult - accurate"
   ]
  },
  {
   "cell_type": "code",
   "execution_count": 8,
   "id": "dcc854b6",
   "metadata": {},
   "outputs": [
    {
     "name": "stdout",
     "output_type": "stream",
     "text": [
      "[2.07819653 2.01838958 2.00453033 2.00112847 2.00028186 2.00007045\n",
      " 2.00001761 2.0000044  2.0000011  2.00000028 2.00000007]\n",
      "[4.13667562 4.03266862 4.00807948 4.00201449 4.00050329 4.00012527\n",
      " 4.0000179  4.00006031 4.00677096 3.95419631        inf]\n"
     ]
    },
    {
     "name": "stderr",
     "output_type": "stream",
     "text": [
      "/var/folders/_r/s4ymnyp94kg4jf8pzqddcwmh0000gn/T/ipykernel_14120/1320071230.py:5: RuntimeWarning: divide by zero encountered in double_scalars\n",
      "  SimpsonOrder = np.array([np.log(SimpsonError[i] / SimpsonError[i+1]) / np.log(2) for i in range(11)])\n"
     ]
    }
   ],
   "source": [
    "TrapezoidalOrder = np.array([np.log(TrapezoidalError[i] / TrapezoidalError[i+1]) / np.log(2) for i in range(11)])\n",
    "\n",
    "SimpsonOrder = np.array([np.log(SimpsonError[i] / SimpsonError[i+1]) / np.log(2) for i in range(11)])"
   ]
  },
  {
   "cell_type": "code",
   "execution_count": 10,
   "id": "6889871d",
   "metadata": {},
   "outputs": [
    {
     "name": "stdout",
     "output_type": "stream",
     "text": [
      "Trapezoidal\n",
      "\n",
      "result =  0.16478672626449248 \terror  = -0.09185339414042099\n",
      "result =  0.23488829464999966 \terror =  -0.0217518257549138 \torder =  2.0781965327026297\n",
      "result =  0.2512710400016469 \terror =  -0.005369080403266557 \torder =  2.0183895847975637\n",
      "result =  0.25530205867416406 \terror =  -0.001338061730749407 \torder =  2.0045303342994902\n",
      "result =  0.25630586652647214 \terror =  -0.00033425387844132626 \torder =  2.0011284699420995\n",
      "result =  0.25655657325963355 \terror =  -8.354714527991636e-05 \torder =  2.0002818615756546\n",
      "result =  0.25661923463850833 \terror =  -2.0885766405132067e-05 \torder =  2.0000704494217487\n",
      "result =  0.25663489902705144 \terror =  -5.22137786201915e-06 \torder =  2.00001761139704\n",
      "result =  0.2566388150644316 \terror =  -1.3053404818719194e-06 \torder =  2.0000044028042443\n",
      "result =  0.256639794070042 \terror =  -3.263348714588332e-07 \torder =  2.000001100845038\n",
      "result =  0.2566400388212112 \terror =  -8.158370223831923e-08 \torder =  2.000000276331072\n",
      "result =  0.2566401000089889 \terror =  -2.0395924560379086e-08 \torder =  2.000000070677938\n"
     ]
    }
   ],
   "source": [
    "for i in range(12):\n",
    "    if i == 0:\n",
    "        print(\"Trapezoidal\\n\")\n",
    "        print(\"result = \",TrapezoidalResult[i],\"\\terror  =\",TrapezoidalError[i])\n",
    "        continue\n",
    "    print(\"result = \",TrapezoidalResult[i],\"\\terror = \",TrapezoidalError[i],\"\\torder = \",TrapezoidalOrder[i-1])"
   ]
  },
  {
   "cell_type": "code",
   "execution_count": 11,
   "id": "5492f2af",
   "metadata": {},
   "outputs": [
    {
     "name": "stdout",
     "output_type": "stream",
     "text": [
      "Simpson\n",
      "\n",
      "result =  0.25825548411183546 \terror  = 0.0016153637069220017\n",
      "result =  0.2567319551188626 \terror =  9.18347139491349e-05 \torder =  4.1366756188335385\n",
      "result =  0.25664573156500303 \terror =  5.611160089569189e-06 \torder =  4.0326686227613875\n",
      "result =  0.2566404691439082 \terror =  3.487389947376407e-07 \torder =  4.00807947909291\n",
      "result =  0.2566401421706871 \terror =  2.1765773627890894e-08 \torder =  4.00201448577115\n",
      "result =  0.25664012176479983 \terror =  1.3598863701780317e-09 \torder =  4.000503286761924\n",
      "result =  0.256640120489899 \terror =  8.498551862246018e-11 \torder =  4.000125267524913\n",
      "result =  0.256640120410225 \terror =  5.311528994411674e-12 \torder =  4.000017904662537\n",
      "result =  0.2566401204052454 \terror =  3.319566843629218e-13 \torder =  4.000060312077135\n",
      "result =  0.2566401204049341 \terror =  2.0650148258027912e-14 \torder =  4.0067709579774355\n",
      "result =  0.2566401204049148 \terror =  1.3322676295501878e-15 \torder =  3.9541963103868754\n",
      "result =  0.25664012040491346 \terror =  0.0 \torder =  inf\n"
     ]
    }
   ],
   "source": [
    "for i in range(12):\n",
    "    if i == 0:\n",
    "        print(\"Simpson\\n\")\n",
    "        print(\"result = \",SimpsonResult[i],\"\\terror  =\",SimpsonError[i])\n",
    "        continue\n",
    "    print(\"result = \",SimpsonResult[i],\"\\terror = \",SimpsonError[i],\"\\torder = \",SimpsonOrder[i-1])"
   ]
  }
 ],
 "metadata": {
  "kernelspec": {
   "display_name": "Python 3 (ipykernel)",
   "language": "python",
   "name": "python3"
  },
  "language_info": {
   "codemirror_mode": {
    "name": "ipython",
    "version": 3
   },
   "file_extension": ".py",
   "mimetype": "text/x-python",
   "name": "python",
   "nbconvert_exporter": "python",
   "pygments_lexer": "ipython3",
   "version": "3.9.12"
  }
 },
 "nbformat": 4,
 "nbformat_minor": 5
}
