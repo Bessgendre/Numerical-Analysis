{
 "cells": [
  {
   "cell_type": "code",
   "execution_count": 1,
   "id": "a37c7fa5",
   "metadata": {},
   "outputs": [],
   "source": [
    "import numpy as np\n",
    "import matplotlib.pyplot as plt"
   ]
  },
  {
   "cell_type": "code",
   "execution_count": 4,
   "id": "3b1ef676",
   "metadata": {},
   "outputs": [],
   "source": [
    "# 龙贝格积分，外推 n-1 次\n",
    "def RombergIntegrate(f,a,b,n):\n",
    "    \n",
    "    # 存储各次外推数值\n",
    "    repository = np.zeros((n,n),dtype = np.float64)\n",
    "    \n",
    "    # 初始化\n",
    "    h = b - a\n",
    "    repository[0,0] = (f(a) + f(b)) * h / 2\n",
    "    \n",
    "    # 开始计算\n",
    "    for i in range(1,n):\n",
    "        h = h / 2\n",
    "        # 步长减半\n",
    "        for j in range(i+1):\n",
    "            if j == 0:\n",
    "            # 第 0 列是梯形积分的递推\n",
    "                repository[i,j] = 1/2 * repository[i-1,j] + h * InnerSum(f,a,b,h)\n",
    "                continue\n",
    "            # 依次线性组合\n",
    "            repository[i,j] = (4**(j) * repository[i,j-1] - \n",
    "                               repository[i-1,j-1]) / (4**(j) - 1)\n",
    "    \n",
    "    return repository\n",
    "\n",
    "# 梯形积分公式递推辅助函数，计算函数的“内点和\"\n",
    "def InnerSum(f,a,b,h):\n",
    "    # 以 h 为间隔分割区间\n",
    "    number = (b-a)/h + 1\n",
    "    InervalDivide = np.linspace(a,b,int(number))\n",
    "    \n",
    "    # 分离后一项比前一项多出的点\n",
    "    PointsShouldCalculate = InervalDivide[1::2]\n",
    "    \n",
    "    # 求函数在这些点上的和\n",
    "    return np.sum(f(PointsShouldCalculate))           "
   ]
  },
  {
   "cell_type": "code",
   "execution_count": 12,
   "id": "84dc2d1f",
   "metadata": {},
   "outputs": [
    {
     "name": "stdout",
     "output_type": "stream",
     "text": [
      "0.386294361119890627964679197248\n"
     ]
    }
   ],
   "source": [
    "f = lambda x: np.log(x)\n",
    "result = RombergIntegrate(f,1,2,20)\n",
    "print(\"%.30f\"%result[19,19])"
   ]
  },
  {
   "cell_type": "code",
   "execution_count": null,
   "id": "55036885",
   "metadata": {},
   "outputs": [],
   "source": []
  }
 ],
 "metadata": {
  "kernelspec": {
   "display_name": "Python 3 (ipykernel)",
   "language": "python",
   "name": "python3"
  },
  "language_info": {
   "codemirror_mode": {
    "name": "ipython",
    "version": 3
   },
   "file_extension": ".py",
   "mimetype": "text/x-python",
   "name": "python",
   "nbconvert_exporter": "python",
   "pygments_lexer": "ipython3",
   "version": "3.9.12"
  }
 },
 "nbformat": 4,
 "nbformat_minor": 5
}
